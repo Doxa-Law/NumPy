{
 "cells": [
  {
   "cell_type": "code",
   "execution_count": 1,
   "id": "14e12363",
   "metadata": {},
   "outputs": [],
   "source": [
    "import numpy as np"
   ]
  },
  {
   "cell_type": "code",
   "execution_count": 2,
   "id": "b1a43324",
   "metadata": {},
   "outputs": [
    {
     "data": {
      "text/plain": [
       "array([ 1,  2, 10, 10,  4])"
      ]
     },
     "execution_count": 2,
     "metadata": {},
     "output_type": "execute_result"
    }
   ],
   "source": [
    "# function to generate an array of random integers between 0 and 10, inclusive.\n",
    "vector = np.random.randint(0, 11, size=5)\n",
    "\n",
    "vector"
   ]
  },
  {
   "cell_type": "code",
   "execution_count": 3,
   "id": "5470524a",
   "metadata": {},
   "outputs": [
    {
     "data": {
      "text/plain": [
       "array([16, 17, 18, 19, 20, 21, 22, 23, 24, 25, 26, 27, 28, 29, 30, 31, 32,\n",
       "       33, 34, 35, 36, 37, 38, 39, 40, 41, 42, 43, 44, 45, 46, 47, 48, 49,\n",
       "       50, 51, 52, 53, 54])"
      ]
     },
     "execution_count": 3,
     "metadata": {},
     "output_type": "execute_result"
    }
   ],
   "source": [
    "#function to create a vector with values ranging from 15 to 55.\n",
    "vector = np.arange(15, 56)\n",
    "\n",
    "vector[1:-1]"
   ]
  },
  {
   "cell_type": "code",
   "execution_count": 4,
   "id": "c1b59e8b",
   "metadata": {},
   "outputs": [],
   "source": [
    "# Create a random array with 1000 elements\n",
    "array = np.random.rand(1000)"
   ]
  },
  {
   "cell_type": "code",
   "execution_count": 5,
   "id": "f5722a83",
   "metadata": {},
   "outputs": [],
   "source": [
    "# Compute the average, variance, and standard deviation\n",
    "avg = np.mean(array)\n",
    "var = np.var(array)\n",
    "std = np.std(array)"
   ]
  },
  {
   "cell_type": "code",
   "execution_count": 10,
   "id": "e4b5c55f",
   "metadata": {},
   "outputs": [
    {
     "data": {
      "text/plain": [
       "('Average:', 0.4781821026412703)"
      ]
     },
     "execution_count": 10,
     "metadata": {},
     "output_type": "execute_result"
    }
   ],
   "source": [
    "\"Average:\", avg"
   ]
  },
  {
   "cell_type": "code",
   "execution_count": 7,
   "id": "b00e5ba3",
   "metadata": {},
   "outputs": [
    {
     "data": {
      "text/plain": [
       "('Variance:', 0.0817756083449679)"
      ]
     },
     "execution_count": 7,
     "metadata": {},
     "output_type": "execute_result"
    }
   ],
   "source": [
    "\"Variance:\", var"
   ]
  },
  {
   "cell_type": "code",
   "execution_count": 11,
   "id": "29409899",
   "metadata": {},
   "outputs": [
    {
     "data": {
      "text/plain": [
       "('Standard deviation:', 0.2859643480313025)"
      ]
     },
     "execution_count": 11,
     "metadata": {},
     "output_type": "execute_result"
    }
   ],
   "source": [
    "\"Standard deviation:\", std"
   ]
  },
  {
   "cell_type": "code",
   "execution_count": 13,
   "id": "43de4f4f",
   "metadata": {},
   "outputs": [],
   "source": [
    "# Create a 3x3 array\n",
    "array = np.array([[1, 2, 3], [4, 5, 6], [7, 8, 9]])"
   ]
  },
  {
   "cell_type": "code",
   "execution_count": 14,
   "id": "54a1e98b",
   "metadata": {},
   "outputs": [],
   "source": [
    "# Calculate the cumulative sum along axis 1\n",
    "cumsum_axis1 = np.cumsum(array, axis=1)\n",
    "\n",
    "# Sum over rows for each of the 3 columns\n",
    "sum_columns = np.sum(array, axis=0)\n",
    "\n",
    "# Sum over columns for each of the 2 rows\n",
    "sum_rows = np.sum(array, axis=1)\n"
   ]
  },
  {
   "cell_type": "code",
   "execution_count": 15,
   "id": "a5dc27ae",
   "metadata": {},
   "outputs": [
    {
     "data": {
      "text/plain": [
       "array([[1, 2, 3],\n",
       "       [4, 5, 6],\n",
       "       [7, 8, 9]])"
      ]
     },
     "execution_count": 15,
     "metadata": {},
     "output_type": "execute_result"
    }
   ],
   "source": [
    "\"Array:\"\n",
    "array"
   ]
  },
  {
   "cell_type": "code",
   "execution_count": 16,
   "id": "dcc7a091",
   "metadata": {},
   "outputs": [
    {
     "data": {
      "text/plain": [
       "array([[ 1,  3,  6],\n",
       "       [ 4,  9, 15],\n",
       "       [ 7, 15, 24]], dtype=int32)"
      ]
     },
     "execution_count": 16,
     "metadata": {},
     "output_type": "execute_result"
    }
   ],
   "source": [
    "\"Cumulative sum along axis 1:\"\n",
    "cumsum_axis1"
   ]
  },
  {
   "cell_type": "code",
   "execution_count": 17,
   "id": "7ca5c605",
   "metadata": {},
   "outputs": [
    {
     "data": {
      "text/plain": [
       "array([12, 15, 18])"
      ]
     },
     "execution_count": 17,
     "metadata": {},
     "output_type": "execute_result"
    }
   ],
   "source": [
    "\"Sum over rows for each of the 3 columns:\"\n",
    "sum_columns"
   ]
  },
  {
   "cell_type": "code",
   "execution_count": 18,
   "id": "5e25a1d2",
   "metadata": {},
   "outputs": [
    {
     "data": {
      "text/plain": [
       "array([ 6, 15, 24])"
      ]
     },
     "execution_count": 18,
     "metadata": {},
     "output_type": "execute_result"
    }
   ],
   "source": [
    "\"Sum over columns for each of the 2 rows:\"\n",
    "sum_rows"
   ]
  },
  {
   "cell_type": "code",
   "execution_count": 19,
   "id": "1f9e1e1a",
   "metadata": {},
   "outputs": [],
   "source": [
    "# Define the two matrices as NumPy arrays\n",
    "matrix1 = np.array([[1, 0], [0, 1]])\n",
    "matrix2 = np.array([[1, 2], [3, 4]])"
   ]
  },
  {
   "cell_type": "code",
   "execution_count": 20,
   "id": "79065c09",
   "metadata": {},
   "outputs": [],
   "source": [
    "# Compute the multiplication of the two matrices\n",
    "result = np.dot(matrix1, matrix2)"
   ]
  },
  {
   "cell_type": "code",
   "execution_count": 21,
   "id": "e4b81d31",
   "metadata": {},
   "outputs": [
    {
     "data": {
      "text/plain": [
       "array([[1, 2],\n",
       "       [3, 4]])"
      ]
     },
     "execution_count": 21,
     "metadata": {},
     "output_type": "execute_result"
    }
   ],
   "source": [
    "result"
   ]
  },
  {
   "cell_type": "code",
   "execution_count": null,
   "id": "b3d75a8d",
   "metadata": {},
   "outputs": [],
   "source": []
  }
 ],
 "metadata": {
  "kernelspec": {
   "display_name": "Python 3 (ipykernel)",
   "language": "python",
   "name": "python3"
  },
  "language_info": {
   "codemirror_mode": {
    "name": "ipython",
    "version": 3
   },
   "file_extension": ".py",
   "mimetype": "text/x-python",
   "name": "python",
   "nbconvert_exporter": "python",
   "pygments_lexer": "ipython3",
   "version": "3.9.13"
  }
 },
 "nbformat": 4,
 "nbformat_minor": 5
}
